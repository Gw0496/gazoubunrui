{
  "nbformat": 4,
  "nbformat_minor": 0,
  "metadata": {
    "colab": {
      "name": "getgolf.ipynb",
      "provenance": [],
      "mount_file_id": "16BnWczhjSEpkOk6jsrdh30ynn7Hkls3F",
      "authorship_tag": "ABX9TyNAMvuZGqS+V9QnqnQRLARh",
      "include_colab_link": true
    },
    "kernelspec": {
      "name": "python3",
      "display_name": "Python 3"
    }
  },
  "cells": [
    {
      "cell_type": "markdown",
      "metadata": {
        "id": "view-in-github",
        "colab_type": "text"
      },
      "source": [
        "<a href=\"https://colab.research.google.com/github/Gw0496/gazoubunrui/blob/master/getgolf.ipynb\" target=\"_parent\"><img src=\"https://colab.research.google.com/assets/colab-badge.svg\" alt=\"Open In Colab\"/></a>"
      ]
    },
    {
      "cell_type": "code",
      "metadata": {
        "id": "mDTi57dc9x9v",
        "colab_type": "code",
        "colab": {
          "base_uri": "https://localhost:8080/",
          "height": 254
        },
        "outputId": "60490b13-76dd-4be6-d23f-a66743aa126a"
      },
      "source": [
        "!pip install icrawler"
      ],
      "execution_count": 2,
      "outputs": [
        {
          "output_type": "stream",
          "text": [
            "Collecting icrawler\n",
            "  Downloading https://files.pythonhosted.org/packages/89/de/71d154b1fe181ee1a4afae5d10451856ef4689b3fd72d93cc55f31d2886a/icrawler-0.6.3-py2.py3-none-any.whl\n",
            "Requirement already satisfied: requests>=2.9.1 in /usr/local/lib/python3.6/dist-packages (from icrawler) (2.23.0)\n",
            "Requirement already satisfied: Pillow in /usr/local/lib/python3.6/dist-packages (from icrawler) (7.0.0)\n",
            "Requirement already satisfied: beautifulsoup4>=4.4.1 in /usr/local/lib/python3.6/dist-packages (from icrawler) (4.6.3)\n",
            "Requirement already satisfied: six>=1.10.0 in /usr/local/lib/python3.6/dist-packages (from icrawler) (1.15.0)\n",
            "Requirement already satisfied: lxml in /usr/local/lib/python3.6/dist-packages (from icrawler) (4.2.6)\n",
            "Requirement already satisfied: urllib3!=1.25.0,!=1.25.1,<1.26,>=1.21.1 in /usr/local/lib/python3.6/dist-packages (from requests>=2.9.1->icrawler) (1.24.3)\n",
            "Requirement already satisfied: chardet<4,>=3.0.2 in /usr/local/lib/python3.6/dist-packages (from requests>=2.9.1->icrawler) (3.0.4)\n",
            "Requirement already satisfied: idna<3,>=2.5 in /usr/local/lib/python3.6/dist-packages (from requests>=2.9.1->icrawler) (2.10)\n",
            "Requirement already satisfied: certifi>=2017.4.17 in /usr/local/lib/python3.6/dist-packages (from requests>=2.9.1->icrawler) (2020.6.20)\n",
            "Installing collected packages: icrawler\n",
            "Successfully installed icrawler-0.6.3\n"
          ],
          "name": "stdout"
        }
      ]
    },
    {
      "cell_type": "code",
      "metadata": {
        "id": "d9iT8zvw9Te1",
        "colab_type": "code",
        "colab": {
          "base_uri": "https://localhost:8080/",
          "height": 1000
        },
        "outputId": "2cf09db5-b5ab-48d6-bf48-5a99fce3fc31"
      },
      "source": [
        "from icrawler.builtin import BingImageCrawler\n",
        "import os\n",
        "import shutil\n",
        "\n",
        "# 検出する画像\n",
        "golfer_lists = {'渋野日向子': 'shibuno', '小祝さくら': 'koiwai', '原英莉花': 'hara'}\n",
        "\n",
        "Mydribe = \"/content/drive/My Drive/ColabData\"\n",
        "\n",
        "# フォルダの作成\n",
        "os.makedirs(Mydribe + '/origin_image', exist_ok=True)\n",
        "\n",
        "# keyに検索用の名前、valueはフォルダ名\n",
        "for key, value in golfer_lists.items():\n",
        "    # 取得した画像の保存先を指定\n",
        "    crawler = BingImageCrawler(storage={'root_dir': value})\n",
        "    # キーワードと取得枚数を指定\n",
        "    crawler.crawl(keyword=key, max_num=10)\n",
        "    # フォルダを移動\n",
        "    path = os.path.join('./', value)\n",
        "    shutil.move(path, Mydribe + '/origin_image/')"
      ],
      "execution_count": 4,
      "outputs": [
        {
          "output_type": "stream",
          "text": [
            "2020-08-18 03:23:54,344 - INFO - icrawler.crawler - start crawling...\n",
            "2020-08-18 03:23:54,345 - INFO - icrawler.crawler - starting 1 feeder threads...\n",
            "2020-08-18 03:23:54,351 - INFO - feeder - thread feeder-001 exit\n",
            "2020-08-18 03:23:54,351 - INFO - icrawler.crawler - starting 1 parser threads...\n",
            "2020-08-18 03:23:54,359 - INFO - icrawler.crawler - starting 1 downloader threads...\n",
            "2020-08-18 03:23:54,628 - INFO - parser - parsing result page https://www.bing.com/images/async?q=渋野日向子&first=0\n",
            "2020-08-18 03:23:55,801 - INFO - downloader - image #1\thttps://s.eximg.jp/exnews/feed/ALBA/ALBA_129695_12fe.jpg\n",
            "2020-08-18 03:23:56,393 - ERROR - downloader - Response status code 403, file https://hochi.news/images/2019/08/06/20190806-OHT1I50037-L.jpg\n",
            "2020-08-18 03:23:57,215 - INFO - downloader - image #2\thttps://i.gimg.jp/cmsimg/191633.jpg\n",
            "2020-08-18 03:23:57,438 - INFO - downloader - image #3\thttps://samidareshiki.com/wp-content/uploads/2019/08/shibunohinako1.jpg\n",
            "2020-08-18 03:23:57,836 - INFO - downloader - image #4\thttp://myquest7.com/wp-content/uploads/2019/11/20190826s00043000191000p_view.jpg\n",
            "2020-08-18 03:23:58,003 - INFO - downloader - image #5\thttps://image.alba.co.jp/common/images/common/img/cont/l/420x315/flexible/2019072205273679261.jpg\n",
            "2020-08-18 03:23:58,328 - INFO - downloader - image #6\thttps://entert.jyuusya-yoshiko.com/wp-content/uploads/2019/11/f1a6e23d.jpg\n",
            "2020-08-18 03:23:58,708 - INFO - downloader - image #7\thttps://image.cache.storm.mg/styles/smg-1200-large-fp/s3/media/image/2019/08/05/20190805-024424_U11645_M540999_e405.jpg\n",
            "2020-08-18 03:23:58,904 - INFO - downloader - image #8\thttps://i.daily.jp/golf/2019/08/05/Images/f_12579917.jpg\n",
            "2020-08-18 03:23:59,209 - INFO - downloader - image #9\thttps://stillness.life/wp-content/uploads/2019/08/sbh908-jpp032263151.jpg\n",
            "2020-08-18 03:23:59,263 - INFO - downloader - image #10\thttps://www.nihaopro.com/wp-content/uploads/2019/08/00-1.jpg\n",
            "2020-08-18 03:23:59,541 - INFO - downloader - downloaded images reach max num, thread downloader-001 is ready to exit\n",
            "2020-08-18 03:23:59,542 - INFO - downloader - thread downloader-001 exit\n",
            "2020-08-18 03:24:00,370 - INFO - icrawler.crawler - Crawling task done!\n",
            "2020-08-18 03:24:00,445 - INFO - icrawler.crawler - start crawling...\n",
            "2020-08-18 03:24:00,446 - INFO - icrawler.crawler - starting 1 feeder threads...\n",
            "2020-08-18 03:24:00,447 - INFO - feeder - thread feeder-001 exit\n",
            "2020-08-18 03:24:00,452 - INFO - icrawler.crawler - starting 1 parser threads...\n",
            "2020-08-18 03:24:00,459 - INFO - icrawler.crawler - starting 1 downloader threads...\n",
            "2020-08-18 03:24:00,814 - INFO - parser - parsing result page https://www.bing.com/images/async?q=小祝さくら&first=0\n",
            "2020-08-18 03:24:00,949 - INFO - downloader - image #1\thttps://prt.iza.ne.jp/kiji/sports/images/180518/spo18051818060069-m1.jpg\n",
            "2020-08-18 03:24:01,220 - INFO - downloader - image #2\thttps://www.zakzak.co.jp/images/news/180907/spo1809070012-m1.jpg\n",
            "2020-08-18 03:24:01,266 - INFO - parser - downloaded image reached max num, thread parser-001 is ready to exit\n",
            "2020-08-18 03:24:01,267 - INFO - parser - thread parser-001 exit\n",
            "2020-08-18 03:24:01,848 - INFO - downloader - image #3\thttps://image.alba.co.jp/photogallery/1024x768/regular/2018100920155938288.jpg\n",
            "2020-08-18 03:24:02,077 - INFO - downloader - image #4\thttps://www.sankei.com/images/news/180919/prm1809190007-p3.jpg\n",
            "2020-08-18 03:24:02,277 - INFO - downloader - image #5\thttp://runrunskip.com/wp-content/uploads/2016/07/0708_7.jpg\n",
            "2020-08-18 03:24:02,906 - INFO - downloader - image #6\thttp://image.alba.co.jp/photogallery/1024x768/regular/2017120522525050734.jpg\n",
            "2020-08-18 03:24:03,810 - INFO - downloader - image #7\thttps://s.eximg.jp/exnews/feed/ALBA/ALBA_44385.jpg\n",
            "2020-08-18 03:24:03,884 - INFO - downloader - image #8\thttps://i.pinimg.com/736x/ed/8f/db/ed8fdb20e61bfd7660212f6666060fa0.jpg\n",
            "2020-08-18 03:24:04,081 - INFO - downloader - image #9\thttps://i.daily.jp/golf/2018/09/02/Images/f_11602206.jpg\n",
            "2020-08-18 03:24:04,152 - INFO - downloader - image #10\thttps://www.sanspo.com/golf/images/20180901/jlp18090118560004-p1.jpg\n",
            "2020-08-18 03:24:04,416 - INFO - downloader - downloaded images reach max num, thread downloader-001 is ready to exit\n",
            "2020-08-18 03:24:04,417 - INFO - downloader - thread downloader-001 exit\n",
            "2020-08-18 03:24:04,465 - INFO - icrawler.crawler - Crawling task done!\n",
            "2020-08-18 03:24:04,539 - INFO - icrawler.crawler - start crawling...\n",
            "2020-08-18 03:24:04,540 - INFO - icrawler.crawler - starting 1 feeder threads...\n",
            "2020-08-18 03:24:04,544 - INFO - feeder - thread feeder-001 exit\n",
            "2020-08-18 03:24:04,546 - INFO - icrawler.crawler - starting 1 parser threads...\n",
            "2020-08-18 03:24:04,552 - INFO - icrawler.crawler - starting 1 downloader threads...\n",
            "2020-08-18 03:24:04,796 - INFO - parser - parsing result page https://www.bing.com/images/async?q=原英莉花&first=0\n",
            "2020-08-18 03:24:05,154 - INFO - parser - downloaded image reached max num, thread parser-001 is ready to exit\n",
            "2020-08-18 03:24:05,155 - INFO - parser - thread parser-001 exit\n",
            "2020-08-18 03:24:05,335 - INFO - downloader - image #1\thttp://n.sinaimg.cn/sports/transform/267/w640h427/20181005/X39M-hkvrhps5737584.jpg\n",
            "2020-08-18 03:24:05,473 - INFO - downloader - image #2\thttps://i.gimg.jp/cmsimg/210877.jpg\n",
            "2020-08-18 03:24:05,721 - INFO - downloader - image #3\thttps://livedoor.blogimg.jp/a_load/imgs/7/9/79699048.jpg\n",
            "2020-08-18 03:24:05,781 - INFO - downloader - image #4\thttp://n.sinaimg.cn/sports/transform/283/w650h433/20180602/OD4F-fzrwiaz6208309.jpg\n",
            "2020-08-18 03:24:05,808 - INFO - downloader - image #5\thttps://livedoor.blogimg.jp/a_load/imgs/a/d/ad921742.jpg\n",
            "2020-08-18 03:24:05,900 - INFO - downloader - image #6\thttps://stat.ameba.jp/news_images/20171102/17/41/5K/j/o050003782017110216483195765.jpg\n",
            "2020-08-18 03:24:06,626 - INFO - downloader - image #7\thttps://i1.hdslb.com/bfs/archive/44ff968aa2ef0e66f17eff8a506337024b51146b.jpg\n",
            "2020-08-18 03:24:07,692 - INFO - downloader - image #8\thttps://724.169pp.net/169mm/201509/064/38.jpg\n",
            "2020-08-18 03:24:07,761 - INFO - downloader - image #9\thttps://www.nxqiu.com/u/s/0/1034.jpg\n",
            "2020-08-18 03:24:07,939 - INFO - downloader - image #10\thttp://pic.tcc-interiors.com/vod/2019-12-15/5df53a58d1e70.jpg\n",
            "2020-08-18 03:24:08,068 - INFO - downloader - downloaded images reach max num, thread downloader-001 is ready to exit\n",
            "2020-08-18 03:24:08,069 - INFO - downloader - thread downloader-001 exit\n",
            "2020-08-18 03:24:08,560 - INFO - icrawler.crawler - Crawling task done!\n",
            "2020-08-18 03:24:08,632 - INFO - parser - downloaded image reached max num, thread parser-001 is ready to exit\n",
            "2020-08-18 03:24:08,633 - INFO - parser - thread parser-001 exit\n"
          ],
          "name": "stderr"
        }
      ]
    },
    {
      "cell_type": "markdown",
      "metadata": {
        "id": "nFNnOtXNArAK",
        "colab_type": "text"
      },
      "source": [
        "# 新しいセクション"
      ]
    },
    {
      "cell_type": "markdown",
      "metadata": {
        "id": "PNMqpM0oArk0",
        "colab_type": "text"
      },
      "source": [
        "# 新しいセクション"
      ]
    }
  ]
}