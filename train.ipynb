{
  "nbformat": 4,
  "nbformat_minor": 0,
  "metadata": {
    "colab": {
      "name": "train.ipynb",
      "provenance": [],
      "mount_file_id": "13Lf60K_9Z94H_n_OZRTr-82QJeJyFwh0",
      "authorship_tag": "ABX9TyOB0sIDaZlpd7hwfhDnQI9w",
      "include_colab_link": true
    },
    "kernelspec": {
      "name": "python3",
      "display_name": "Python 3"
    }
  },
  "cells": [
    {
      "cell_type": "markdown",
      "metadata": {
        "id": "view-in-github",
        "colab_type": "text"
      },
      "source": [
        "<a href=\"https://colab.research.google.com/github/Gw0496/gazoubunrui/blob/master/train.ipynb\" target=\"_parent\"><img src=\"https://colab.research.google.com/assets/colab-badge.svg\" alt=\"Open In Colab\"/></a>"
      ]
    },
    {
      "cell_type": "code",
      "metadata": {
        "id": "IJNvyK5Bgg02",
        "colab_type": "code",
        "colab": {
          "base_uri": "https://localhost:8080/",
          "height": 407
        },
        "outputId": "547bbec1-136a-4dba-81ff-6412028a56ca"
      },
      "source": [
        "import numpy as np\n",
        "import keras\n",
        "from keras import layers,models\n",
        "from keras import optimizers\n",
        "from keras.utils import np_utils\n",
        "\n",
        "categories=[\"hara\",\"koiwai\",\"shibuno\"]\n",
        "nb_classes=len(categories)\n",
        "\n",
        "Mydribe = \"/content/drive/My Drive/ColabData\"\n",
        "\n",
        "f=np.load(Mydribe + \"/mydatasets.npz\")\n",
        "X_train,Y_train=f['x_train'],f['y_train']\n",
        "X_test,Y_test=f['x_test'],f['y_test']\n",
        "f.close()\n",
        "\n",
        "x_train=X_train.astype(\"float\")/255\n",
        "x_test=X_test.astype(\"float\")/255\n",
        "print(Y_train)\n",
        "print(nb_classes)\n"
      ],
      "execution_count": 5,
      "outputs": [
        {
          "output_type": "stream",
          "text": [
            "['shibuno' 'shibuno' 'shibuno' 'shibuno' 'shibuno' 'shibuno' 'shibuno'\n",
            " 'shibuno' 'shibuno' 'shibuno' 'shibuno' 'shibuno' 'shibuno' 'shibuno'\n",
            " 'shibuno' 'shibuno' 'shibuno' 'shibuno' 'shibuno' 'shibuno' 'shibuno'\n",
            " 'shibuno' 'shibuno' 'shibuno' 'shibuno' 'shibuno' 'shibuno' 'shibuno'\n",
            " 'shibuno' 'shibuno' 'shibuno' 'shibuno' 'shibuno' 'shibuno' 'shibuno'\n",
            " 'shibuno' 'shibuno' 'shibuno' 'shibuno' 'shibuno' 'shibuno' 'shibuno'\n",
            " 'shibuno' 'shibuno' 'shibuno' 'shibuno' 'shibuno' 'shibuno' 'shibuno'\n",
            " 'shibuno' 'shibuno' 'shibuno' 'shibuno' 'shibuno' 'koiwai' 'koiwai'\n",
            " 'koiwai' 'koiwai' 'koiwai' 'koiwai' 'koiwai' 'koiwai' 'koiwai' 'koiwai'\n",
            " 'koiwai' 'koiwai' 'koiwai' 'koiwai' 'koiwai' 'koiwai' 'koiwai' 'koiwai'\n",
            " 'koiwai' 'koiwai' 'koiwai' 'koiwai' 'koiwai' 'koiwai' 'koiwai' 'koiwai'\n",
            " 'koiwai' 'koiwai' 'koiwai' 'koiwai' 'koiwai' 'koiwai' 'koiwai' 'koiwai'\n",
            " 'hara' 'hara' 'hara' 'hara' 'hara' 'hara' 'hara' 'hara' 'hara' 'hara'\n",
            " 'hara' 'hara' 'hara' 'hara' 'hara' 'hara' 'hara' 'hara' 'hara' 'hara'\n",
            " 'hara' 'hara' 'hara' 'hara' 'hara' 'hara' 'hara' 'hara' 'hara' 'hara'\n",
            " 'hara' 'hara' 'hara' 'hara' 'hara' 'hara' 'hara' 'hara' 'hara' 'hara'\n",
            " 'hara' 'hara' 'hara' 'hara' 'hara' 'hara' 'hara' 'hara' 'hara' 'hara'\n",
            " 'hara' 'hara' 'hara' 'hara' 'hara' 'hara' 'hara' 'hara' 'hara' 'hara'\n",
            " 'hara' 'hara' 'hara' 'hara' 'hara' 'hara' 'hara' 'hara' 'hara' 'hara'\n",
            " 'hara' 'hara' 'hara' 'hara' 'hara' 'hara' 'hara' 'hara' 'hara' 'hara'\n",
            " 'hara' 'hara' 'hara' 'hara' 'hara' 'hara']\n",
            "3\n"
          ],
          "name": "stdout"
        }
      ]
    },
    {
      "cell_type": "code",
      "metadata": {
        "id": "50RTwRlfn4DP",
        "colab_type": "code",
        "colab": {
          "base_uri": "https://localhost:8080/",
          "height": 367
        },
        "outputId": "96b1be85-b922-46c0-c7d4-42f705492425"
      },
      "source": [
        "\n",
        "\n",
        "\n",
        "y_train=np_utils.to_categorical(Y_train,nb_classes)\n",
        "y_test=np_utils.to_categorical(Y_test,nb_classes)\n",
        "\n",
        "model=models.Sequential()\n",
        "model.add(layers.Conv2D(32,(3,3),activation=\"relu\",input_shape=(128,128,3)))\n",
        "model.add(layers.MaxPool2D((2,2)))\n",
        "model.add(layers.Conv2D(64,(3,3),activation=\"relu\"))\n",
        "model.add(layers.MaxPool2D((2,2)))\n",
        "model.add(layers.Conv2D(128,(3,3),activation=\"relu\"))\n",
        "model.add(layers.MaxPool2D((2,2)))\n",
        "model.add(layers.Conv2D(128,(3,3),activation=\"relu\"))\n",
        "model.add(layers.MaxPool2D((2,2)))\n",
        "model.add(layers.Dropout(0.5))\n",
        "model.add(layers.Flatten())\n",
        "model.add(layers.Dense(512,activation=\"relu\"))\n",
        "model.add(layers.Dropout(0.25))\n",
        "model.add(layers.Dense(nb_classes,activation=\"softmax\"))\n",
        "model.summary()\n",
        "\n",
        "json_string=model.to_json()\n",
        "open(Mydribe + \"/train.json\",\"w\").write(json_string)\n",
        "\n",
        "model.compile(loss=\"categorical_crossentropy\",optimizer=\"rmsprop\",metrics=[\"acc\"])\n",
        "\n",
        "model.fit(x_train,y_train,epochs=16,batch_size=128,validation_data=(x_test,y_test))\n",
        "\n",
        "model.save_weights(Mydribe + \"/MyDataSets/train.hdf5\")\n",
        "\n",
        "score=model.evaluate(x_test,y_test,verbose=0)\n",
        "print(\"test loss : \",score[0])\n",
        "print(\"test acc : \",score[1])"
      ],
      "execution_count": 6,
      "outputs": [
        {
          "output_type": "error",
          "ename": "ValueError",
          "evalue": "ignored",
          "traceback": [
            "\u001b[0;31m---------------------------------------------------------------------------\u001b[0m",
            "\u001b[0;31mValueError\u001b[0m                                Traceback (most recent call last)",
            "\u001b[0;32m<ipython-input-6-e85d341c8ce6>\u001b[0m in \u001b[0;36m<module>\u001b[0;34m()\u001b[0m\n\u001b[1;32m      2\u001b[0m \u001b[0;34m\u001b[0m\u001b[0m\n\u001b[1;32m      3\u001b[0m \u001b[0;34m\u001b[0m\u001b[0m\n\u001b[0;32m----> 4\u001b[0;31m \u001b[0my_train\u001b[0m\u001b[0;34m=\u001b[0m\u001b[0mnp_utils\u001b[0m\u001b[0;34m.\u001b[0m\u001b[0mto_categorical\u001b[0m\u001b[0;34m(\u001b[0m\u001b[0mY_train\u001b[0m\u001b[0;34m,\u001b[0m\u001b[0mnb_classes\u001b[0m\u001b[0;34m)\u001b[0m\u001b[0;34m\u001b[0m\u001b[0;34m\u001b[0m\u001b[0m\n\u001b[0m\u001b[1;32m      5\u001b[0m \u001b[0my_test\u001b[0m\u001b[0;34m=\u001b[0m\u001b[0mnp_utils\u001b[0m\u001b[0;34m.\u001b[0m\u001b[0mto_categorical\u001b[0m\u001b[0;34m(\u001b[0m\u001b[0mY_test\u001b[0m\u001b[0;34m,\u001b[0m\u001b[0mnb_classes\u001b[0m\u001b[0;34m)\u001b[0m\u001b[0;34m\u001b[0m\u001b[0;34m\u001b[0m\u001b[0m\n\u001b[1;32m      6\u001b[0m \u001b[0;34m\u001b[0m\u001b[0m\n",
            "\u001b[0;32m/usr/local/lib/python3.6/dist-packages/tensorflow/python/keras/utils/np_utils.py\u001b[0m in \u001b[0;36mto_categorical\u001b[0;34m(y, num_classes, dtype)\u001b[0m\n\u001b[1;32m     67\u001b[0m \u001b[0;34m\u001b[0m\u001b[0m\n\u001b[1;32m     68\u001b[0m   \"\"\"\n\u001b[0;32m---> 69\u001b[0;31m   \u001b[0my\u001b[0m \u001b[0;34m=\u001b[0m \u001b[0mnp\u001b[0m\u001b[0;34m.\u001b[0m\u001b[0marray\u001b[0m\u001b[0;34m(\u001b[0m\u001b[0my\u001b[0m\u001b[0;34m,\u001b[0m \u001b[0mdtype\u001b[0m\u001b[0;34m=\u001b[0m\u001b[0;34m'int'\u001b[0m\u001b[0;34m)\u001b[0m\u001b[0;34m\u001b[0m\u001b[0;34m\u001b[0m\u001b[0m\n\u001b[0m\u001b[1;32m     70\u001b[0m   \u001b[0minput_shape\u001b[0m \u001b[0;34m=\u001b[0m \u001b[0my\u001b[0m\u001b[0;34m.\u001b[0m\u001b[0mshape\u001b[0m\u001b[0;34m\u001b[0m\u001b[0;34m\u001b[0m\u001b[0m\n\u001b[1;32m     71\u001b[0m   \u001b[0;32mif\u001b[0m \u001b[0minput_shape\u001b[0m \u001b[0;32mand\u001b[0m \u001b[0minput_shape\u001b[0m\u001b[0;34m[\u001b[0m\u001b[0;34m-\u001b[0m\u001b[0;36m1\u001b[0m\u001b[0;34m]\u001b[0m \u001b[0;34m==\u001b[0m \u001b[0;36m1\u001b[0m \u001b[0;32mand\u001b[0m \u001b[0mlen\u001b[0m\u001b[0;34m(\u001b[0m\u001b[0minput_shape\u001b[0m\u001b[0;34m)\u001b[0m \u001b[0;34m>\u001b[0m \u001b[0;36m1\u001b[0m\u001b[0;34m:\u001b[0m\u001b[0;34m\u001b[0m\u001b[0;34m\u001b[0m\u001b[0m\n",
            "\u001b[0;31mValueError\u001b[0m: invalid literal for int() with base 10: 'shibuno'"
          ]
        }
      ]
    }
  ]
}